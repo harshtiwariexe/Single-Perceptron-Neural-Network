{
 "cells": [
  {
   "cell_type": "code",
   "execution_count": 40,
   "id": "9eec347f",
   "metadata": {},
   "outputs": [],
   "source": [
    "import numpy as np\n",
    "import pandas as pd\n",
    "from sklearn.datasets import make_regression\n",
    "import matplotlib.pyplot as plt\n",
    "import w3_tools\n",
    "np.random.seed(3)"
   ]
  },
  {
   "cell_type": "code",
   "execution_count": 3,
   "id": "ef68ce10",
   "metadata": {},
   "outputs": [
    {
     "name": "stdout",
     "output_type": "stream",
     "text": [
      "X:\n",
      "[[ 0.3190391  -1.07296862  0.86540763 -0.17242821  1.14472371  0.50249434\n",
      "  -2.3015387  -0.68372786 -0.38405435 -0.87785842 -2.06014071 -1.10061918\n",
      "  -1.09989127  1.13376944  1.74481176 -0.12289023 -0.93576943  1.62434536\n",
      "   1.46210794  0.90159072 -0.7612069   0.53035547 -0.52817175 -0.26788808\n",
      "   0.58281521  0.04221375  0.90085595 -0.24937038 -0.61175641 -0.3224172 ]]\n",
      "Y:\n",
      "[[ -3.01854669 -65.65047675  26.96755728   8.70562603  57.94332628\n",
      "   -0.69293498 -78.66594473 -12.73881492 -13.26721663 -24.80488085\n",
      "  -74.24484385 -39.99533724 -22.70174437  73.46766345  55.7257405\n",
      "   23.80417646 -13.45481508  25.57952246  75.91238321  50.91155323\n",
      "  -43.7191551   -1.7025559  -16.44931235 -33.54041234  20.4505961\n",
      "   18.35949302  37.69029586  -1.04801683  -4.47915933 -20.89431647]]\n"
     ]
    }
   ],
   "source": [
    "m = 30\n",
    "\n",
    "X , Y = make_regression(n_samples=m, n_features=1, noise=20, random_state=1)\n",
    "X = X.reshape(1,m)\n",
    "Y = Y.reshape(1,m)\n",
    "\n",
    "print(\"X:\")\n",
    "print(X)\n",
    "\n",
    "print(\"Y:\")\n",
    "print(Y)"
   ]
  },
  {
   "cell_type": "code",
   "execution_count": 4,
   "id": "c318e9ea",
   "metadata": {},
   "outputs": [
    {
     "data": {
      "text/plain": [
       "Text(0, 0.5, 'Y')"
      ]
     },
     "execution_count": 4,
     "metadata": {},
     "output_type": "execute_result"
    },
    {
     "data": {
      "image/png": "[encoded data removed]",
      "text/plain": [
       "<Figure size 640x480 with 1 Axes>"
      ]
     },
     "metadata": {},
     "output_type": "display_data"
    }
   ],
   "source": [
    "plt.scatter(X,Y)\n",
    "\n",
    "plt.xlabel(\"X\")\n",
    "plt.ylabel(\"Y\")"
   ]
  },
  {
   "cell_type": "code",
   "execution_count": 6,
   "id": "bfb3bdbc",
   "metadata": {},
   "outputs": [],
   "source": [
    "# Defining size of layer\n",
    "\n",
    "def layer_size(X,Y):\n",
    "    nx = X.shape[0]\n",
    "    ny = Y.shape[0]\n",
    "    \n",
    "    return (nx,ny)"
   ]
  },
  {
   "cell_type": "code",
   "execution_count": 7,
   "id": "2b31cc44",
   "metadata": {},
   "outputs": [
    {
     "name": "stdout",
     "output_type": "stream",
     "text": [
      "nx1\n",
      "ny1\n"
     ]
    }
   ],
   "source": [
    "nx,ny = layer_size(X,Y)\n",
    "print(\"nx\" + str(nx))\n",
    "print(\"ny\" + str(ny))"
   ]
  },
  {
   "cell_type": "code",
   "execution_count": 30,
   "id": "6aa287fa",
   "metadata": {},
   "outputs": [],
   "source": [
    "# Defining parameter\n",
    "\n",
    "def parameter(nx,ny):\n",
    "    w = np.random.randn(ny,nx) * 0.01\n",
    "    b = np.zeros((ny,1))\n",
    "    \n",
    "    param={\n",
    "        \"W\":w,\n",
    "        \"b\":b\n",
    "    }\n",
    "    return param\n",
    "    "
   ]
  },
  {
   "cell_type": "code",
   "execution_count": 31,
   "id": "7baefcb9",
   "metadata": {},
   "outputs": [
    {
     "name": "stdout",
     "output_type": "stream",
     "text": [
      "W: [[0.0047182]]\n",
      "b: [[0.]]\n"
     ]
    }
   ],
   "source": [
    "param = parameter(nx,ny)\n",
    "print(\"W: \" + str(param[\"W\"]))\n",
    "print(\"b: \" + str(param[\"b\"]))"
   ]
  },
  {
   "cell_type": "code",
   "execution_count": 34,
   "id": "3aee8ce0",
   "metadata": {},
   "outputs": [],
   "source": [
    "# Forward Propagation\n",
    "\n",
    "def Prop_forward(param,X):\n",
    "    w = param[\"W\"]\n",
    "    b = param[\"b\"]\n",
    "    \n",
    "    z = np.dot(w,X) + b\n",
    "    \n",
    "    y = z\n",
    "    \n",
    "    return y"
   ]
  },
  {
   "cell_type": "code",
   "execution_count": 35,
   "id": "22ae77b4",
   "metadata": {},
   "outputs": [
    {
     "name": "stdout",
     "output_type": "stream",
     "text": [
      "[[ 0.00150529 -0.00506248  0.00408317 -0.00081355  0.00540104  0.00237087\n",
      "  -0.01085912 -0.00322597 -0.00181205 -0.00414191 -0.00972016 -0.00519294\n",
      "  -0.00518951  0.00534935  0.00823237 -0.00057982 -0.00441515  0.00766399\n",
      "   0.00689852  0.00425389 -0.00359153  0.00250232 -0.00249202 -0.00126395\n",
      "   0.00274984  0.00019917  0.00425042 -0.00117658 -0.00288639 -0.00152123]]\n"
     ]
    }
   ],
   "source": [
    "y_hat = Prop_forward(param,X)\n",
    "print(y_hat)"
   ]
  },
  {
   "cell_type": "code",
   "execution_count": 36,
   "id": "bb7e3217",
   "metadata": {},
   "outputs": [],
   "source": [
    "# Compute Cost\n",
    "\n",
    "def Cost(y_hat,Y):\n",
    "    m = Y.shape[1]\n",
    "    cost = np.sum((y_hat-Y)**2)/(2*m)\n",
    "    \n",
    "    return cost"
   ]
  },
  {
   "cell_type": "code",
   "execution_count": 37,
   "id": "9b0003e0",
   "metadata": {},
   "outputs": [
    {
     "name": "stdout",
     "output_type": "stream",
     "text": [
      "The cost is: 790.6976434014426\n"
     ]
    }
   ],
   "source": [
    "print(\"The cost is: \" + str(Cost(y_hat,Y)))"
   ]
  },
  {
   "cell_type": "markdown",
   "id": "431eed3c",
   "metadata": {},
   "source": [
    "# Neural Network Model #"
   ]
  },
  {
   "cell_type": "code",
   "execution_count": 43,
   "id": "322a0961",
   "metadata": {},
   "outputs": [],
   "source": [
    "def nn_model(X,Y, numIteration = 10, print_cost=False):\n",
    "    nx = layer_size(X,Y)[0]\n",
    "    ny = layer_size(X,Y)[1]\n",
    "    \n",
    "    param = parameter(nx,ny)\n",
    "    \n",
    "    for i in range(0,numIteration):\n",
    "        y_hat = np.dot(param[\"W\"],X) + param[\"b\"]\n",
    "        \n",
    "        cost = np.sum((y_hat - Y)**2)/(2*Y.shape[1])\n",
    "        parameters  = w3_tools.train_nn(param,y_hat,X,Y)\n",
    "        if print_cost:\n",
    "            print('Cost after iteration %i: %f' %(i,cost))\n",
    "    \n",
    "    \n",
    "    return parameters"
   ]
  },
  {
   "cell_type": "code",
   "execution_count": 44,
   "id": "1b609abc",
   "metadata": {},
   "outputs": [
    {
     "name": "stdout",
     "output_type": "stream",
     "text": [
      "Cost after iteration 0: 790.218941\n",
      "Cost after iteration 1: 790.218941\n",
      "Cost after iteration 2: 790.218941\n",
      "Cost after iteration 3: 790.218941\n",
      "Cost after iteration 4: 790.218941\n",
      "Cost after iteration 5: 790.218941\n",
      "Cost after iteration 6: 790.218941\n",
      "Cost after iteration 7: 790.218941\n",
      "Cost after iteration 8: 790.218941\n",
      "Cost after iteration 9: 790.218941\n",
      "Cost after iteration 10: 790.218941\n",
      "Cost after iteration 11: 790.218941\n",
      "Cost after iteration 12: 790.218941\n",
      "Cost after iteration 13: 790.218941\n",
      "Cost after iteration 14: 790.218941\n",
      "W = [[43.63366703]]\n",
      "b = [[0.17926448]]\n"
     ]
    }
   ],
   "source": [
    "parameters = nn_model(X, Y, numIteration =15, print_cost=True)\n",
    "print(\"W = \" + str(parameters[\"W\"]))\n",
    "print(\"b = \" + str(parameters[\"b\"]))\n",
    "\n",
    "W_simple = parameters[\"W\"]\n",
    "b_simple = parameters[\"b\"]"
   ]
  },
  {
   "cell_type": "code",
   "execution_count": 45,
   "id": "b2464b5b",
   "metadata": {},
   "outputs": [
    {
     "data": {
      "image/png": "[encoded data removed]",
      "text/plain": [
       "<Figure size 640x480 with 1 Axes>"
      ]
     },
     "metadata": {},
     "output_type": "display_data"
    }
   ],
   "source": [
    "X_pred = np.array([-0.95, 0.2, 1.5])\n",
    "\n",
    "fig, ax = plt.subplots()\n",
    "plt.scatter(X, Y, color = \"black\")\n",
    "\n",
    "plt.xlabel(\"$x$\")\n",
    "plt.ylabel(\"$y$\")\n",
    "    \n",
    "X_line = np.arange(np.min(X[0,:]),np.max(X[0,:])*1.1, 0.1)\n",
    "ax.plot(X_line, W_simple[0,0] * X_line + b_simple[0,0], \"r\")\n",
    "ax.plot(X_pred, W_simple[0,0] * X_pred + b_simple[0,0], \"bo\")\n",
    "plt.plot()\n",
    "plt.show()"
   ]
  },
  {
   "cell_type": "code",
   "execution_count": null,
   "id": "5b6375d5",
   "metadata": {},
   "outputs": [],
   "source": []
  }
 ],
 "metadata": {
  "kernelspec": {
   "display_name": "Python 3 (ipykernel)",
   "language": "python",
   "name": "python3"
  },
  "language_info": {
   "codemirror_mode": {
    "name": "ipython",
    "version": 3
   },
   "file_extension": ".py",
   "mimetype": "text/x-python",
   "name": "python",
   "nbconvert_exporter": "python",
   "pygments_lexer": "ipython3",
   "version": "3.12.3"
  }
 },
 "nbformat": 4,
 "nbformat_minor": 5
}
